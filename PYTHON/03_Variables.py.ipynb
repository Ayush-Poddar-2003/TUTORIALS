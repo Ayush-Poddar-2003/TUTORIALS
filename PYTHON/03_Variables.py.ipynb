{
 "cells": [
  {
   "attachments": {},
   "cell_type": "markdown",
   "id": "fc75bb01",
   "metadata": {},
   "source": [
    "# VARIABLES -\n",
    "\n",
    "- Variables are containers that data values / Names used to refer a memory location.<br>\n",
    "- Python has no command for declaring a variable.<br>\n",
    "- A variable is created the moment you first assign a value to it.<br>\n",
    "\n",
    "---"
   ]
  },
  {
   "cell_type": "code",
   "execution_count": null,
   "id": "3f08af8d",
   "metadata": {},
   "outputs": [],
   "source": [
    "a = 5    \n",
    "b = \"John\"  \n",
    "print(a)\n",
    "print(b)"
   ]
  },
  {
   "attachments": {},
   "cell_type": "markdown",
   "id": "8c727b33",
   "metadata": {},
   "source": [
    "---\n",
    "### NAMING RULES\n",
    "- Always name at left and value at right\n",
    "- Variable names are case-sensitive.\n",
    "- First letter can either be an alphabet or an underscore.\n",
    "- Can't START with a number or have special symbols anywhere.\n",
    "\n",
    "---\n",
    "\n",
    "### ASSIGNING METHODS -"
   ]
  },
  {
   "cell_type": "code",
   "execution_count": null,
   "id": "ea0995e6",
   "metadata": {},
   "outputs": [],
   "source": [
    "x0, y0, z0 = \"Orange\", \"Banana\", \"Cherry\"\n",
    "x1 = y1 = z1 = \"Orange\""
   ]
  },
  {
   "attachments": {},
   "cell_type": "markdown",
   "id": "c13b9c0b",
   "metadata": {},
   "source": [
    "---\n",
    "### OUTPUT METHODS -\n",
    "\n"
   ]
  },
  {
   "cell_type": "code",
   "execution_count": null,
   "id": "7ca63d5b",
   "metadata": {},
   "outputs": [],
   "source": [
    "x = \"Python\"\n",
    "y = \"is\"\n",
    "z = \"awesome\"\n",
    "\n",
    "print(x,y,z)        \n",
    "print(x, y, z)     \n",
    "print(x,  y,  z)    \n",
    "print(x+y+z)       \n",
    "print(x + y + z)   "
   ]
  },
  {
   "attachments": {},
   "cell_type": "markdown",
   "id": "5961735d",
   "metadata": {},
   "source": [
    "**RESULTS** :-\n",
    "- Comma adds fix space and ignores in b/w spaces\n",
    "- Plus operator ignores spaces, Moreover For numbers, the + character works as a mathematical operator:\n",
    "- In the print() function, when you try to combine a string and a number with the + operator, Python will give you an error:"
   ]
  },
  {
   "cell_type": "code",
   "execution_count": null,
   "id": "b0e0a139",
   "metadata": {},
   "outputs": [],
   "source": [
    "a0 = 5\n",
    "a1 = \"John\"\n",
    "print(a0 + a1)     "
   ]
  },
  {
   "attachments": {},
   "cell_type": "markdown",
   "id": "fb0bb901",
   "metadata": {},
   "source": [
    "---\n",
    "\n",
    "## GLOBAL/LOCAL VARIABLES \n",
    "\n",
    "**LOCAL** : They are defined inside a function, We can not access them outside the function."
   ]
  },
  {
   "cell_type": "code",
   "execution_count": null,
   "id": "1533df9b",
   "metadata": {},
   "outputs": [],
   "source": [
    "def sum(x3,y3):\n",
    "    sum = x3 + y3    # x3,y3 are local variables\n",
    "    return sum\n",
    "\n",
    "print(sum(5, 10))"
   ]
  },
  {
   "attachments": {},
   "cell_type": "markdown",
   "id": "37ebc085",
   "metadata": {},
   "source": [
    "---\n",
    "**GLOBAL** : Variables that are created outside of a function"
   ]
  },
  {
   "cell_type": "code",
   "execution_count": null,
   "id": "2cdbb17d",
   "metadata": {},
   "outputs": [],
   "source": [
    "x4 = 5   # x,y are global variables\n",
    "y4 = 10\n",
    "\n",
    "def sum():\n",
    "    sum = x4 + y4\n",
    "    return sum\n",
    "\n",
    "print(sum())"
   ]
  },
  {
   "attachments": {},
   "cell_type": "markdown",
   "id": "93df596d",
   "metadata": {},
   "source": [
    "**NOTE**! : \n",
    "To create a global variable inside a function, you can use the global keyword."
   ]
  },
  {
   "cell_type": "code",
   "execution_count": null,
   "id": "c7dd00b9",
   "metadata": {},
   "outputs": [],
   "source": [
    "def myfunc1():\n",
    "    global x5\n",
    "    x5 = \"fantastic\"\n",
    "\n",
    "myfunc1()\n",
    "print(\"Python is \" + x5)"
   ]
  },
  {
   "cell_type": "code",
   "execution_count": null,
   "id": "aa3ec4bc",
   "metadata": {},
   "outputs": [],
   "source": [
    "# We can also use the global keyword if you want to change a global variable from inside a function.\n",
    "\n",
    "x6 = \"before\"\n",
    "\n",
    "def myfunc():\n",
    "  global x6\n",
    "  x6 = \"after\"\n",
    "\n",
    "myfunc()\n",
    "print(x6)"
   ]
  }
 ],
 "metadata": {
  "kernelspec": {
   "display_name": "Python 3",
   "language": "python",
   "name": "python3"
  },
  "language_info": {
   "codemirror_mode": {
    "name": "ipython",
    "version": 3
   },
   "file_extension": ".py",
   "mimetype": "text/x-python",
   "name": "python",
   "nbconvert_exporter": "python",
   "pygments_lexer": "ipython3",
   "version": "3.11.1"
  },
  "vscode": {
   "interpreter": {
    "hash": "857ddd2272015514c300b4446175406587c8489e1f7eddb31c98cafb304b7d3b"
   }
  }
 },
 "nbformat": 4,
 "nbformat_minor": 5
}
